{
 "cells": [
  {
   "cell_type": "code",
   "execution_count": 8,
   "id": "08a4a9d2",
   "metadata": {},
   "outputs": [
    {
     "name": "stdout",
     "output_type": "stream",
     "text": [
      "Requirement already satisfied: pyqt5 in /Users/yash/Library/IntelliShelf/IntelliShelf/lib/python3.10/site-packages (5.15.11)\n",
      "Requirement already satisfied: lxml in /Users/yash/Library/IntelliShelf/IntelliShelf/lib/python3.10/site-packages (5.4.0)\n",
      "Requirement already satisfied: PyQt5-sip<13,>=12.15 in /Users/yash/Library/IntelliShelf/IntelliShelf/lib/python3.10/site-packages (from pyqt5) (12.17.0)\n",
      "Requirement already satisfied: PyQt5-Qt5<5.16.0,>=5.15.2 in /Users/yash/Library/IntelliShelf/IntelliShelf/lib/python3.10/site-packages (from pyqt5) (5.15.17)\n"
     ]
    }
   ],
   "source": [
    "!pip install --upgrade pyqt5 lxml "
   ]
  },
  {
   "cell_type": "code",
   "execution_count": 2,
   "id": "34fed75b",
   "metadata": {},
   "outputs": [
    {
     "name": "stdout",
     "output_type": "stream",
     "text": [
      "Cloning into 'labelImg'...\n",
      "remote: Enumerating objects: 2097, done.\u001b[K\n",
      "remote: Counting objects: 100% (4/4), done.\u001b[K\n",
      "remote: Compressing objects: 100% (4/4), done.\u001b[K\n",
      "remote: Total 2097 (delta 0), reused 0 (delta 0), pack-reused 2093 (from 2)\u001b[K\n",
      "Receiving objects: 100% (2097/2097), 237.14 MiB | 9.19 MiB/s, done.\n",
      "Resolving deltas: 100% (1245/1245), done.\n"
     ]
    }
   ],
   "source": [
    "!git clone https://github.com/tzutalin/labelImg"
   ]
  },
  {
   "cell_type": "code",
   "execution_count": 4,
   "id": "343da59a",
   "metadata": {},
   "outputs": [
    {
     "name": "stdout",
     "output_type": "stream",
     "text": [
      "pyrcc5 -o libs/resources.py resources.qrc\n"
     ]
    }
   ],
   "source": [
    "import os \n",
    "if os.name == 'posix':\n",
    "    !cd labelImg &&  make qt5py3\n",
    "if os.name =='nt':\n",
    "    !cd labelImg && pyrcc5 -o libs/resources.py resources.qrc"
   ]
  },
  {
   "cell_type": "code",
   "execution_count": 10,
   "id": "2a0157ef",
   "metadata": {},
   "outputs": [
    {
     "name": "stdout",
     "output_type": "stream",
     "text": [
      "2025-06-20 08:35:15.099 python[30927:6665402] The class 'NSOpenPanel' overrides the method identifier.  This method is implemented by class 'NSWindow'\n",
      "Image:/Users/yash/Library/IntelliShelf/defect-dataset/images/drum/defected-drum1.jpeg -> Annotation:/Users/yash/Library/IntelliShelf/defect-dataset/images/drum/defected-drum1.txt\n",
      "[('defect', [(79, 39), (213, 39), (213, 81), (79, 81)], None, None, False), ('defect', [(30, 77), (79, 77), (79, 106), (30, 106)], None, None, False)]\n",
      "Image:/Users/yash/Library/IntelliShelf/defect-dataset/images/drum/defected-drum2.jpeg -> Annotation:/Users/yash/Library/IntelliShelf/defect-dataset/images/drum/defected-drum2.txt\n",
      "Image:/Users/yash/Library/IntelliShelf/defect-dataset/images/drum/defected-drum3.jpeg -> Annotation:/Users/yash/Library/IntelliShelf/defect-dataset/images/drum/defected-drum3.txt\n",
      "[('defect', [(56, 58), (133, 58), (133, 104), (56, 104)], None, None, False), ('defect', [(130, 127), (152, 127), (152, 156), (130, 156)], None, None, False)]\n",
      "Image:/Users/yash/Library/IntelliShelf/defect-dataset/images/drum/defected-drum4.jpeg -> Annotation:/Users/yash/Library/IntelliShelf/defect-dataset/images/drum/defected-drum4.txt\n",
      "Image:/Users/yash/Library/IntelliShelf/defect-dataset/images/drum/defected-drum5.jpeg -> Annotation:/Users/yash/Library/IntelliShelf/defect-dataset/images/drum/defected-drum5.txt\n",
      "Image:/Users/yash/Library/IntelliShelf/defect-dataset/images/drum/defected-drum6.jpeg -> Annotation:/Users/yash/Library/IntelliShelf/defect-dataset/images/drum/defected-drum6.txt\n",
      "Image:/Users/yash/Library/IntelliShelf/defect-dataset/images/drum/defected-drum7.jpeg -> Annotation:/Users/yash/Library/IntelliShelf/defect-dataset/images/drum/defected-drum7.txt\n",
      "Image:/Users/yash/Library/IntelliShelf/defect-dataset/images/drum/defected-drum8.jpeg -> Annotation:/Users/yash/Library/IntelliShelf/defect-dataset/images/drum/defected-drum8.txt\n",
      "Image:/Users/yash/Library/IntelliShelf/defect-dataset/images/drum/defected-drum9.jpeg -> Annotation:/Users/yash/Library/IntelliShelf/defect-dataset/images/drum/defected-drum9.txt\n",
      "Image:/Users/yash/Library/IntelliShelf/defect-dataset/images/drum/defected-drum10.jpeg -> Annotation:/Users/yash/Library/IntelliShelf/defect-dataset/images/drum/defected-drum10.txt\n",
      "Image:/Users/yash/Library/IntelliShelf/defect-dataset/images/flute/defected-flute1.jpeg -> Annotation:/Users/yash/Library/IntelliShelf/defect-dataset/images/flute/defected-flute1.txt\n",
      "Cancel creation.\n",
      "Image:/Users/yash/Library/IntelliShelf/defect-dataset/images/flute/defected-flute2.jpeg -> Annotation:/Users/yash/Library/IntelliShelf/defect-dataset/images/flute/defected-flute2.txt\n",
      "[('defect', [(120, 65), (220, 65), (220, 96), (120, 96)], None, None, False)]\n",
      "Image:/Users/yash/Library/IntelliShelf/defect-dataset/images/flute/defected-flute3.jpeg -> Annotation:/Users/yash/Library/IntelliShelf/defect-dataset/images/flute/defected-flute3.txt\n",
      "Image:/Users/yash/Library/IntelliShelf/defect-dataset/images/flute/defected-flute4.jpeg -> Annotation:/Users/yash/Library/IntelliShelf/defect-dataset/images/flute/defected-flute4.txt\n",
      "Image:/Users/yash/Library/IntelliShelf/defect-dataset/images/flute/defected-flute5.jpeg -> Annotation:/Users/yash/Library/IntelliShelf/defect-dataset/images/flute/defected-flute5.txt\n",
      "Image:/Users/yash/Library/IntelliShelf/defect-dataset/images/flute/defected-flute6.jpeg -> Annotation:/Users/yash/Library/IntelliShelf/defect-dataset/images/flute/defected-flute6.txt\n",
      "Image:/Users/yash/Library/IntelliShelf/defect-dataset/images/flute/defected-flute7.jpeg -> Annotation:/Users/yash/Library/IntelliShelf/defect-dataset/images/flute/defected-flute7.txt\n",
      "Image:/Users/yash/Library/IntelliShelf/defect-dataset/images/flute/defected-flute7.jpeg -> Annotation:/Users/yash/Library/IntelliShelf/defect-dataset/images/flute/defected-flute7.txt\n",
      "Image:/Users/yash/Library/IntelliShelf/defect-dataset/images/flute/defected-flute8.jpeg -> Annotation:/Users/yash/Library/IntelliShelf/defect-dataset/images/flute/defected-flute8.txt\n",
      "Image:/Users/yash/Library/IntelliShelf/defect-dataset/images/flute/defected-flute8.jpeg -> Annotation:/Users/yash/Library/IntelliShelf/defect-dataset/images/flute/defected-flute8.txt\n",
      "Image:/Users/yash/Library/IntelliShelf/defect-dataset/images/flute/defected-flute9.png -> Annotation:/Users/yash/Library/IntelliShelf/defect-dataset/images/flute/defected-flute9.txt\n",
      "Cancel creation.\n",
      "Image:/Users/yash/Library/IntelliShelf/defect-dataset/images/flute/defected-flute10.jpeg -> Annotation:/Users/yash/Library/IntelliShelf/defect-dataset/images/flute/defected-flute10.txt\n",
      "Image:/Users/yash/Library/IntelliShelf/defect-dataset/images/guitar/defected-guitar1.jpg -> Annotation:/Users/yash/Library/IntelliShelf/defect-dataset/images/guitar/defected-guitar1.txt\n",
      "[('defect', [(253, 65), (389, 65), (389, 205), (253, 205)], None, None, False)]\n",
      "Cancel creation.\n",
      "Image:/Users/yash/Library/IntelliShelf/defect-dataset/images/guitar/defected-guitar2.jpeg -> Annotation:/Users/yash/Library/IntelliShelf/defect-dataset/images/guitar/defected-guitar2.txt\n",
      "Image:/Users/yash/Library/IntelliShelf/defect-dataset/images/guitar/defected-guitar3.jpeg -> Annotation:/Users/yash/Library/IntelliShelf/defect-dataset/images/guitar/defected-guitar3.txt\n",
      "Image:/Users/yash/Library/IntelliShelf/defect-dataset/images/guitar/defected-guitar4.jpeg -> Annotation:/Users/yash/Library/IntelliShelf/defect-dataset/images/guitar/defected-guitar4.txt\n",
      "Image:/Users/yash/Library/IntelliShelf/defect-dataset/images/guitar/defected-guitar5.jpeg -> Annotation:/Users/yash/Library/IntelliShelf/defect-dataset/images/guitar/defected-guitar5.txt\n",
      "Image:/Users/yash/Library/IntelliShelf/defect-dataset/images/guitar/defected-guitar6.jpeg -> Annotation:/Users/yash/Library/IntelliShelf/defect-dataset/images/guitar/defected-guitar6.txt\n",
      "Image:/Users/yash/Library/IntelliShelf/defect-dataset/images/guitar/defected-guitar7.jpeg -> Annotation:/Users/yash/Library/IntelliShelf/defect-dataset/images/guitar/defected-guitar7.txt\n",
      "Image:/Users/yash/Library/IntelliShelf/defect-dataset/images/guitar/defected-guitar8.jpeg -> Annotation:/Users/yash/Library/IntelliShelf/defect-dataset/images/guitar/defected-guitar8.txt\n",
      "Image:/Users/yash/Library/IntelliShelf/defect-dataset/images/guitar/defected-guitar9.jpeg -> Annotation:/Users/yash/Library/IntelliShelf/defect-dataset/images/guitar/defected-guitar9.txt\n",
      "Image:/Users/yash/Library/IntelliShelf/defect-dataset/images/guitar/defected-guitar10.jpeg -> Annotation:/Users/yash/Library/IntelliShelf/defect-dataset/images/guitar/defected-guitar10.txt\n",
      "[('defect', [(56, 28), (229, 28), (229, 160), (56, 160)], None, None, False)]\n",
      "Image:/Users/yash/Library/IntelliShelf/defect-dataset/images/tabla/defected-tabla1.jpeg -> Annotation:/Users/yash/Library/IntelliShelf/defect-dataset/images/tabla/defected-tabla1.txt\n",
      "[('defect', [(32, 43), (117, 43), (117, 94), (32, 94)], None, None, False)]\n",
      "Image:/Users/yash/Library/IntelliShelf/defect-dataset/images/tabla/defected-tabla2.jpeg -> Annotation:/Users/yash/Library/IntelliShelf/defect-dataset/images/tabla/defected-tabla2.txt\n",
      "Image:/Users/yash/Library/IntelliShelf/defect-dataset/images/tabla/defected-tabla3.jpeg -> Annotation:/Users/yash/Library/IntelliShelf/defect-dataset/images/tabla/defected-tabla3.txt\n",
      "Image:/Users/yash/Library/IntelliShelf/defect-dataset/images/tabla/defected-tabla4.jpeg -> Annotation:/Users/yash/Library/IntelliShelf/defect-dataset/images/tabla/defected-tabla4.txt\n",
      "Image:/Users/yash/Library/IntelliShelf/defect-dataset/images/tabla/defected-tabla5.jpeg -> Annotation:/Users/yash/Library/IntelliShelf/defect-dataset/images/tabla/defected-tabla5.txt\n",
      "Image:/Users/yash/Library/IntelliShelf/defect-dataset/images/tabla/defected-tabla6.jpeg -> Annotation:/Users/yash/Library/IntelliShelf/defect-dataset/images/tabla/defected-tabla6.txt\n",
      "Image:/Users/yash/Library/IntelliShelf/defect-dataset/images/tabla/defected-tabla7.jpeg -> Annotation:/Users/yash/Library/IntelliShelf/defect-dataset/images/tabla/defected-tabla7.txt\n",
      "Image:/Users/yash/Library/IntelliShelf/defect-dataset/images/tabla/defected-tabla8.jpeg -> Annotation:/Users/yash/Library/IntelliShelf/defect-dataset/images/tabla/defected-tabla8.txt\n",
      "[('defect', [(34, 43), (134, 43), (134, 123), (34, 123)], None, None, False)]\n",
      "Image:/Users/yash/Library/IntelliShelf/defect-dataset/images/tabla/defected-tabla9.jpeg -> Annotation:/Users/yash/Library/IntelliShelf/defect-dataset/images/tabla/defected-tabla9.txt\n",
      "Image:/Users/yash/Library/IntelliShelf/defect-dataset/images/tabla/defected-tabla10.jpeg -> Annotation:/Users/yash/Library/IntelliShelf/defect-dataset/images/tabla/defected-tabla10.txt\n",
      "Image:/Users/yash/Library/IntelliShelf/defect-dataset/images/violin/defected-violin1.jpeg -> Annotation:/Users/yash/Library/IntelliShelf/defect-dataset/images/violin/defected-violin1.txt\n",
      "[('defect', [(49, 130), (143, 130), (143, 202), (49, 202)], None, None, False)]\n",
      "Image:/Users/yash/Library/IntelliShelf/defect-dataset/images/violin/defected-violin2.jpeg -> Annotation:/Users/yash/Library/IntelliShelf/defect-dataset/images/violin/defected-violin2.txt\n",
      "Cancel creation.\n",
      "Image:/Users/yash/Library/IntelliShelf/defect-dataset/images/violin/defected-violin3.jpeg -> Annotation:/Users/yash/Library/IntelliShelf/defect-dataset/images/violin/defected-violin3.txt\n",
      "Image:/Users/yash/Library/IntelliShelf/defect-dataset/images/violin/defected-violin4.jpeg -> Annotation:/Users/yash/Library/IntelliShelf/defect-dataset/images/violin/defected-violin4.txt\n",
      "Image:/Users/yash/Library/IntelliShelf/defect-dataset/images/violin/defected-violin5.jpeg -> Annotation:/Users/yash/Library/IntelliShelf/defect-dataset/images/violin/defected-violin5.txt\n",
      "Image:/Users/yash/Library/IntelliShelf/defect-dataset/images/violin/defected-violin6.jpeg -> Annotation:/Users/yash/Library/IntelliShelf/defect-dataset/images/violin/defected-violin6.txt\n",
      "Image:/Users/yash/Library/IntelliShelf/defect-dataset/images/violin/defected-violin7.jpeg -> Annotation:/Users/yash/Library/IntelliShelf/defect-dataset/images/violin/defected-violin7.txt\n",
      "Image:/Users/yash/Library/IntelliShelf/defect-dataset/images/violin/defected-violin8.jpeg -> Annotation:/Users/yash/Library/IntelliShelf/defect-dataset/images/violin/defected-violin8.txt\n",
      "Image:/Users/yash/Library/IntelliShelf/defect-dataset/images/violin/defected-violin9.jpeg -> Annotation:/Users/yash/Library/IntelliShelf/defect-dataset/images/violin/defected-violin9.txt\n",
      "Image:/Users/yash/Library/IntelliShelf/defect-dataset/images/violin/defected-violin10.jpeg -> Annotation:/Users/yash/Library/IntelliShelf/defect-dataset/images/violin/defected-violin10.txt\n"
     ]
    }
   ],
   "source": [
    "!cd labelImg && python labelImg.py"
   ]
  },
  {
   "cell_type": "code",
   "execution_count": 13,
   "id": "2e0b988b",
   "metadata": {},
   "outputs": [],
   "source": [
    "# yolo detect train \\\n",
    "#   model=yolov8n.pt \\\n",
    "#   data=defect.yaml \\\n",
    "#   imgsz=512 \\\n",
    "#   epochs=30 \\\n",
    "#   batch=8\n"
   ]
  },
  {
   "cell_type": "code",
   "execution_count": 24,
   "id": "479b1174",
   "metadata": {},
   "outputs": [
    {
     "name": "stdout",
     "output_type": "stream",
     "text": [
      "Image: /Users/yash/Library/IntelliShelf/dataset/images/drum/0001.jpg\n",
      "✅ Clean (no defect ≥ 0.25)\n"
     ]
    }
   ],
   "source": [
    "from ultralytics import YOLO\n",
    "from pathlib import Path\n",
    "\n",
    "# ------------------------------------------------------------------\n",
    "# 1. configure paths and confidence threshold\n",
    "# ------------------------------------------------------------------\n",
    "MODEL_PATH   = Path(\"/Users/yash/Library/IntelliShelf/runs/detect/train2/weights/best.pt\")   # your trained weights\n",
    "DEFECT_CLASS = 0                 # index you used for “defect” in defect.yaml\n",
    "CONF_THRES   = 0.25              # treat predictions above this as valid\n",
    "\n",
    "# ------------------------------------------------------------------\n",
    "# 2. load model once\n",
    "# ------------------------------------------------------------------\n",
    "model = YOLO(MODEL_PATH)\n",
    "\n",
    "def is_damaged(image_path: str | Path, conf_thresh: float = CONF_THRES) -> tuple[bool, float]:\n",
    "    \"\"\"\n",
    "    Returns (damaged?, highest_defect_confidence)\n",
    "    \"\"\"\n",
    "    results = model.predict(source=str(image_path), imgsz=512, conf=conf_thresh, verbose=False)\n",
    "    boxes = results[0].boxes\n",
    "\n",
    "    # find max confidence for defect class\n",
    "    max_conf = 0.0\n",
    "    for b in boxes:\n",
    "        if int(b.cls[0]) == DEFECT_CLASS:\n",
    "            max_conf = max(max_conf, float(b.conf[0]))\n",
    "\n",
    "    damaged = max_conf >= conf_thresh\n",
    "    return damaged, max_conf\n",
    "\n",
    "# ------------------------------------------------------------------\n",
    "# 3. test it\n",
    "# ------------------------------------------------------------------\n",
    "# img_path = \"/Users/yash/Library/IntelliShelf/defect-dataset/images/train/defected-drum2.jpeg\"   # replace with your image\n",
    "img_path = \"/Users/yash/Library/IntelliShelf/dataset/images/drum/0001.jpg\"\n",
    "damaged, conf = is_damaged(img_path)\n",
    "\n",
    "print(f\"Image: {img_path}\")\n",
    "if damaged:\n",
    "    print(f\"🚨 Defected (confidence {conf:.2f})\")\n",
    "else:\n",
    "    print(f\"✅ Clean (no defect ≥ {CONF_THRES})\")\n",
    "\n"
   ]
  },
  {
   "cell_type": "code",
   "execution_count": 25,
   "id": "44d7ff84",
   "metadata": {},
   "outputs": [
    {
     "name": "stdout",
     "output_type": "stream",
     "text": [
      "Image: /Users/yash/Library/IntelliShelf/defect-dataset/images/train/defected-drum2.jpeg\n",
      "🚨 Ddefected (confidence 0.51)\n"
     ]
    }
   ],
   "source": [
    "# ------------------------------------------------------------------\n",
    "# 3. test it\n",
    "# ------------------------------------------------------------------\n",
    "img_path = \"/Users/yash/Library/IntelliShelf/defect-dataset/images/train/defected-drum2.jpeg\"   # replace with your image\n",
    "# img_path = \"/Users/yash/Library/IntelliShelf/dataset/images/drum/0001.jpg\"\n",
    "damaged, conf = is_damaged(img_path)\n",
    "\n",
    "print(f\"Image: {img_path}\")\n",
    "if damaged:\n",
    "    print(f\"🚨 Ddefected (confidence {conf:.2f})\")\n",
    "else:\n",
    "    print(f\"✅ Clean (no defect ≥ {CONF_THRES})\")"
   ]
  },
  {
   "cell_type": "code",
   "execution_count": null,
   "id": "f34a565b",
   "metadata": {},
   "outputs": [],
   "source": []
  }
 ],
 "metadata": {
  "kernelspec": {
   "display_name": "Python 3",
   "language": "python",
   "name": "python3"
  },
  "language_info": {
   "codemirror_mode": {
    "name": "ipython",
    "version": 3
   },
   "file_extension": ".py",
   "mimetype": "text/x-python",
   "name": "python",
   "nbconvert_exporter": "python",
   "pygments_lexer": "ipython3",
   "version": "3.10.18"
  }
 },
 "nbformat": 4,
 "nbformat_minor": 5
}
